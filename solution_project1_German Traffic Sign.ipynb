{
 "cells": [
  {
   "cell_type": "markdown",
   "metadata": {
    "colab_type": "text",
    "id": "O9jAqShELHZI"
   },
   "source": [
    "![alt text](https://drive.google.com/uc?export=view&id=1UXScsVx_Wni_JuDdB8LeTnM6jsPfIwkW)\n",
    "\n",
    "Proprietary content. © Great Learning. All Rights Reserved. Unauthorized use or distribution prohibited."
   ]
  },
  {
   "cell_type": "markdown",
   "metadata": {
    "colab_type": "text",
    "id": "SRkFT8HtCZHS"
   },
   "source": [
    "# German Traffic Sign Recognition\n",
    "Multi-class, single-image classification"
   ]
  },
  {
   "cell_type": "markdown",
   "metadata": {
    "colab_type": "text",
    "id": "SJWdbMALTcGJ"
   },
   "source": [
    "### Dataset\n",
    "The German Traffic Sign Benchmark is a multi-class, single-image classification challenge held at the International Joint Conference on Neural Networks (IJCNN) 2011. They cordially invite researchers from relevant fields to participate: The competition is designed to allow for participation without special domain knowledge. Their benchmark has the following properties:\n",
    "\n",
    "- Single-image, multi-class classification problem\n",
    "- More than 40 classes\n",
    "- More than 50,000 images in total\n",
    "- Large, lifelike database"
   ]
  },
  {
   "cell_type": "markdown",
   "metadata": {
    "colab_type": "text",
    "id": "hRhJulWyIGMN"
   },
   "source": [
    "#### Notes\n",
    "- For this project, we have reduced the number of images. There are around 16,500+ images in the dataset provided. You can check “label_details” folder for getting information about the classes.\n",
    "- If the model is taking too much time to get trained then you can reduce the number of classes. There are around 43 classes in the dataset, model should be trained on a minimum of 15 classes."
   ]
  },
  {
   "cell_type": "code",
   "execution_count": 1,
   "metadata": {},
   "outputs": [],
   "source": [
    "import tensorflow as tf\n",
    "tf.__version__\n",
    "import numpy as np\n",
    "import cv2\n",
    "from tensorflow.keras.preprocessing.image import ImageDataGenerator"
   ]
  },
  {
   "cell_type": "code",
   "execution_count": 2,
   "metadata": {},
   "outputs": [],
   "source": [
    "from glob import glob\n",
    "import os\n",
    "# Ignore the warnings\n",
    "import warnings\n",
    "warnings.filterwarnings(\"ignore\")"
   ]
  },
  {
   "cell_type": "code",
   "execution_count": 3,
   "metadata": {},
   "outputs": [],
   "source": [
    "dataset_path = 'Train-20210114T110605Z-001/Train'\n",
    "number_of_classes = 15"
   ]
  },
  {
   "cell_type": "markdown",
   "metadata": {
    "colab_type": "text",
    "id": "qC37j3FUDVYd"
   },
   "source": [
    "### Initialize ImageDataGenerator (7 Marks)\n",
    "- Rescale the images\n",
    "- Specify value for validation_split & get 75% data in training and 25% data in training"
   ]
  },
  {
   "cell_type": "markdown",
   "metadata": {},
   "source": [
    "### ImageDataGenerator(\n",
    "    featurewise_center=False, samplewise_center=False,\n",
    "    featurewise_std_normalization=False, samplewise_std_normalization=False,\n",
    "    zca_whitening=False, zca_epsilon=1e-06, rotation_range=0, width_shift_range=0.0,\n",
    "    height_shift_range=0.0, brightness_range=None, shear_range=0.0, zoom_range=0.0,\n",
    "    channel_shift_range=0.0, fill_mode='nearest', cval=0.0,\n",
    "    horizontal_flip=False, vertical_flip=False, rescale=None,\n",
    "    preprocessing_function=None, data_format=None,\n",
    "    validation_split=0.25, dtype=None\n",
    ")"
   ]
  },
  {
   "cell_type": "code",
   "execution_count": 4,
   "metadata": {},
   "outputs": [],
   "source": [
    "IMG_SIZE = 28"
   ]
  },
  {
   "cell_type": "code",
   "execution_count": 5,
   "metadata": {},
   "outputs": [],
   "source": [
    "# using rescale to image value range :[0,1]\n",
    "# Training :validation = 75: 25\n",
    "image_datagen = tf.keras.preprocessing.image.ImageDataGenerator(\n",
    " rescale=1.0/255.0,\n",
    " validation_split=0.25\n",
    ")"
   ]
  },
  {
   "cell_type": "markdown",
   "metadata": {
    "colab_type": "text",
    "id": "58e4ODapEVdx"
   },
   "source": [
    "### Get training data from ImageDataGenerator (5 Marks)\n",
    "- Give directory path\n",
    "- Give target size\n",
    "- Give batch_size\n",
    "- Specify classes, if you wish to use less number of classes you need to give class names in a list (Atleast 15 classes should be there)\n",
    "- Specify class_mode\n",
    "- Specify color_mode\n",
    "- Specify subset\n",
    "\n",
    "You can get details here\n",
    "https://www.tensorflow.org/api_docs/python/tf/keras/preprocessing/image/ImageDataGenerator"
   ]
  },
  {
   "cell_type": "code",
   "execution_count": 6,
   "metadata": {
    "colab": {},
    "colab_type": "code",
    "id": "GSfT2cB4COgC"
   },
   "outputs": [
    {
     "name": "stdout",
     "output_type": "stream",
     "text": [
      "Found 16248 images belonging to 15 classes.\n"
     ]
    }
   ],
   "source": [
    "train_generator = image_datagen.flow_from_directory(\n",
    "        directory = dataset_path,\n",
    "        target_size=(IMG_SIZE, IMG_SIZE),\n",
    "        batch_size=32,\n",
    "        classes= ['0','1','2','3','4','5','6','7','8','9','11','12','13','14','15'],\n",
    "        class_mode = 'categorical',\n",
    "        color_mode=\"rgb\",\n",
    "        subset='training',\n",
    "        shuffle=True,\n",
    "        seed =1\n",
    "        )"
   ]
  },
  {
   "cell_type": "markdown",
   "metadata": {
    "colab_type": "text",
    "id": "GzYNcoV9Gawj"
   },
   "source": [
    "### Get validation data from ImageDataGenerator (5 Marks)\n",
    "- Give directory path\n",
    "- Give target size\n",
    "- Give batch_size\n",
    "- Specify classes, if you wish to use less number of classes you need to give class names in a list (Atleast 15 classes should be there)\n",
    "- Specify class_mode\n",
    "- Specify color_mode\n",
    "- Specify subset\n",
    "\n",
    "You can get details here\n",
    "https://www.tensorflow.org/api_docs/python/tf/keras/preprocessing/image/ImageDataGenerator"
   ]
  },
  {
   "cell_type": "code",
   "execution_count": 7,
   "metadata": {
    "colab": {},
    "colab_type": "code",
    "id": "-m9zfw0AHIma"
   },
   "outputs": [
    {
     "name": "stdout",
     "output_type": "stream",
     "text": [
      "Found 5412 images belonging to 15 classes.\n"
     ]
    }
   ],
   "source": [
    "validation_generator = image_datagen.flow_from_directory(\n",
    "        directory = dataset_path,\n",
    "        target_size=(IMG_SIZE, IMG_SIZE),\n",
    "        batch_size=32,\n",
    "        classes= ['0','1','2','3','4','5','6','7','8','9','11','12','13','14','15'],\n",
    "        class_mode = 'categorical',\n",
    "        color_mode=\"rgb\",\n",
    "        subset='validation',\n",
    "        shuffle=True,\n",
    "        seed =1\n",
    "        )"
   ]
  },
  {
   "cell_type": "markdown",
   "metadata": {},
   "source": [
    "## Visualize few images before giving to model"
   ]
  },
  {
   "cell_type": "code",
   "execution_count": 8,
   "metadata": {},
   "outputs": [],
   "source": [
    "x_batch, y_batch = next(train_generator)"
   ]
  },
  {
   "cell_type": "code",
   "execution_count": 9,
   "metadata": {},
   "outputs": [
    {
     "data": {
      "image/png": "[encoded data removed]",
      "text/plain": [
       "<Figure size 432x288 with 1 Axes>"
      ]
     },
     "metadata": {
      "needs_background": "light"
     },
     "output_type": "display_data"
    },
    {
     "data": {
      "image/png": "[encoded data removed]",
      "text/plain": [
       "<Figure size 432x288 with 1 Axes>"
      ]
     },
     "metadata": {
      "needs_background": "light"
     },
     "output_type": "display_data"
    },
    {
     "data": {
      "image/png": "[encoded data removed]",
      "text/plain": [
       "<Figure size 432x288 with 1 Axes>"
      ]
     },
     "metadata": {
      "needs_background": "light"
     },
     "output_type": "display_data"
    },
    {
     "data": {
      "image/png": "[encoded data removed]",
      "text/plain": [
       "<Figure size 432x288 with 1 Axes>"
      ]
     },
     "metadata": {
      "needs_background": "light"
     },
     "output_type": "display_data"
    },
    {
     "data": {
      "image/png": "[encoded data removed]",
      "text/plain": [
       "<Figure size 432x288 with 1 Axes>"
      ]
     },
     "metadata": {
      "needs_background": "light"
     },
     "output_type": "display_data"
    }
   ],
   "source": [
    "#Visualize dataset[first 5 images] from first batch of train_generator\n",
    "import matplotlib.pyplot as plt\n",
    "for i in range (0,5):\n",
    "    image = x_batch[i]\n",
    "    plt.imshow(image.astype(np.float32))\n",
    "    plt.show()"
   ]
  },
  {
   "cell_type": "code",
   "execution_count": 10,
   "metadata": {},
   "outputs": [
    {
     "name": "stdout",
     "output_type": "stream",
     "text": [
      "(32, 28, 28, 3)\n",
      "(32, 15)\n"
     ]
    }
   ],
   "source": [
    "for image_batch, labels_batch in validation_generator:\n",
    "  print(image_batch.shape)\n",
    "  print(labels_batch.shape)\n",
    "  break"
   ]
  },
  {
   "cell_type": "markdown",
   "metadata": {
    "colab_type": "text",
    "id": "S2fXxJz1I_SV"
   },
   "source": [
    "### Define model (10 Marks)\n",
    "- Initialize a Sequential Model\n",
    "- Add Convolution, Maxpool, Dropout, Flatten & Dense layers according to your model architecture"
   ]
  },
  {
   "cell_type": "code",
   "execution_count": 11,
   "metadata": {},
   "outputs": [],
   "source": [
    "from tensorflow.keras.models import Sequential\n",
    "from tensorflow.keras.layers import Conv2D, Dropout, MaxPooling2D, Flatten, Dense"
   ]
  },
  {
   "cell_type": "code",
   "execution_count": 12,
   "metadata": {},
   "outputs": [],
   "source": [
    "def myownmodel_10layers():\n",
    "    model = Sequential()\n",
    "    model.add(Conv2D(input_shape=(IMG_SIZE,IMG_SIZE,3),filters=64,kernel_size=(3,3),padding=\"same\", activation=\"relu\", name = 'conv1'))\n",
    "    model.add(Conv2D(filters=64,kernel_size=(3,3), activation=\"relu\", name = 'conv2'))\n",
    "    model.add(Conv2D(filters=128, kernel_size=(3,3), activation=\"relu\", name = 'conv3'))\n",
    "    model.add(MaxPooling2D(pool_size=(2,2),strides=(2,2), name = 'pool1'))\n",
    "    # # Apply Dropout with 0.2 probability \n",
    "    model.add(Dropout(rate=0.2))\n",
    "    model.add(Conv2D(filters=256, kernel_size=(3,3), activation=\"relu\", name = 'conv4'))\n",
    "    model.add(MaxPooling2D(pool_size=(2,2),strides=(2,2), name = 'pool2'))\n",
    "    # # Apply Dropout with 0.2 probability\n",
    "    model.add(Dropout(rate=0.2))\n",
    "    model.add(Flatten(name='flatten'))\n",
    "    model.add(Dense(128, activation='relu', name='fc1'))\n",
    "    model.add(Dense(number_of_classes, activation='softmax', name='output'))\n",
    "    return model"
   ]
  },
  {
   "cell_type": "markdown",
   "metadata": {},
   "source": [
    "### Create Model with above definition"
   ]
  },
  {
   "cell_type": "code",
   "execution_count": 13,
   "metadata": {},
   "outputs": [],
   "source": [
    "model=myownmodel_10layers()"
   ]
  },
  {
   "cell_type": "markdown",
   "metadata": {
    "colab_type": "text",
    "id": "lRs36YJgJvI0"
   },
   "source": [
    "### Compile the model (5 Marks)\n",
    "- Specify optimizer, loss & metrics"
   ]
  },
  {
   "cell_type": "markdown",
   "metadata": {},
   "source": [
    "### chosen categorical crossentropy for multi class classification problem"
   ]
  },
  {
   "cell_type": "code",
   "execution_count": 14,
   "metadata": {
    "colab": {},
    "colab_type": "code",
    "id": "jvgO3JPvDQpL"
   },
   "outputs": [],
   "source": [
    "model.compile(loss=\"categorical_crossentropy\", metrics=[\"accuracy\"], optimizer=\"adam\")"
   ]
  },
  {
   "cell_type": "markdown",
   "metadata": {
    "colab_type": "text",
    "id": "U_Q6ihfUJ6Hm"
   },
   "source": [
    "### Get model summary (3 Marks)"
   ]
  },
  {
   "cell_type": "code",
   "execution_count": 15,
   "metadata": {},
   "outputs": [
    {
     "name": "stdout",
     "output_type": "stream",
     "text": [
      "Model: \"sequential\"\n",
      "_________________________________________________________________\n",
      "Layer (type)                 Output Shape              Param #   \n",
      "=================================================================\n",
      "conv1 (Conv2D)               (None, 28, 28, 64)        1792      \n",
      "_________________________________________________________________\n",
      "conv2 (Conv2D)               (None, 26, 26, 64)        36928     \n",
      "_________________________________________________________________\n",
      "conv3 (Conv2D)               (None, 24, 24, 128)       73856     \n",
      "_________________________________________________________________\n",
      "pool1 (MaxPooling2D)         (None, 12, 12, 128)       0         \n",
      "_________________________________________________________________\n",
      "dropout (Dropout)            (None, 12, 12, 128)       0         \n",
      "_________________________________________________________________\n",
      "conv4 (Conv2D)               (None, 10, 10, 256)       295168    \n",
      "_________________________________________________________________\n",
      "pool2 (MaxPooling2D)         (None, 5, 5, 256)         0         \n",
      "_________________________________________________________________\n",
      "dropout_1 (Dropout)          (None, 5, 5, 256)         0         \n",
      "_________________________________________________________________\n",
      "flatten (Flatten)            (None, 6400)              0         \n",
      "_________________________________________________________________\n",
      "fc1 (Dense)                  (None, 128)               819328    \n",
      "_________________________________________________________________\n",
      "output (Dense)               (None, 15)                1935      \n",
      "=================================================================\n",
      "Total params: 1,229,007\n",
      "Trainable params: 1,229,007\n",
      "Non-trainable params: 0\n",
      "_________________________________________________________________\n"
     ]
    }
   ],
   "source": [
    "model.summary()"
   ]
  },
  {
   "cell_type": "markdown",
   "metadata": {
    "colab_type": "text",
    "id": "4mK8GNxFJ9vB"
   },
   "source": [
    "### Fit the model (5 Marks)\n",
    "- Specify epochs\n",
    "- Specify batch_size\n",
    "- Give validation_data\n",
    "- Validation accuracy should be more than 90%"
   ]
  },
  {
   "cell_type": "markdown",
   "metadata": {},
   "source": [
    "### calculate number of iterations per epoch"
   ]
  },
  {
   "cell_type": "code",
   "execution_count": 16,
   "metadata": {},
   "outputs": [
    {
     "data": {
      "text/plain": [
       "508"
      ]
     },
     "execution_count": 16,
     "metadata": {},
     "output_type": "execute_result"
    }
   ],
   "source": [
    "# steps_per_epoch = int(total train images / 32)\n",
    "steps_per_epoch = len(train_generator)\n",
    "steps_per_epoch"
   ]
  },
  {
   "cell_type": "code",
   "execution_count": 17,
   "metadata": {},
   "outputs": [
    {
     "data": {
      "text/plain": [
       "170"
      ]
     },
     "execution_count": 17,
     "metadata": {},
     "output_type": "execute_result"
    }
   ],
   "source": [
    "# valsteps = int(5757 / 32) #total validation image =5412  \n",
    "val_steps = len(validation_generator)\n",
    "val_steps"
   ]
  },
  {
   "cell_type": "code",
   "execution_count": 18,
   "metadata": {},
   "outputs": [],
   "source": [
    "# Use earlystopping\n",
    "earlyStoppingcallback = tf.keras.callbacks.EarlyStopping(monitor='val_accuracy', patience=2, min_delta=0.01)"
   ]
  },
  {
   "cell_type": "code",
   "execution_count": 19,
   "metadata": {
    "colab": {},
    "colab_type": "code",
    "id": "9SLjprPDDYOs"
   },
   "outputs": [
    {
     "name": "stdout",
     "output_type": "stream",
     "text": [
      "WARNING:tensorflow:sample_weight modes were coerced from\n",
      "  ...\n",
      "    to  \n",
      "  ['...']\n",
      "WARNING:tensorflow:sample_weight modes were coerced from\n",
      "  ...\n",
      "    to  \n",
      "  ['...']\n",
      "Train for 508 steps, validate for 170 steps\n",
      "Epoch 1/10\n",
      "508/508 [==============================] - 107s 210ms/step - loss: 0.6564 - accuracy: 0.7931 - val_loss: 0.2090 - val_accuracy: 0.9392\n",
      "Epoch 2/10\n",
      "508/508 [==============================] - 111s 219ms/step - loss: 0.0782 - accuracy: 0.9761 - val_loss: 0.1970 - val_accuracy: 0.9396\n",
      "Epoch 3/10\n",
      "508/508 [==============================] - 115s 225ms/step - loss: 0.0533 - accuracy: 0.9835 - val_loss: 0.1541 - val_accuracy: 0.9575\n",
      "Epoch 4/10\n",
      "508/508 [==============================] - 114s 224ms/step - loss: 0.0331 - accuracy: 0.9897 - val_loss: 0.1842 - val_accuracy: 0.9534\n",
      "Epoch 5/10\n",
      "508/508 [==============================] - 113s 221ms/step - loss: 0.0295 - accuracy: 0.9903 - val_loss: 0.1070 - val_accuracy: 0.9706\n",
      "Epoch 6/10\n",
      "508/508 [==============================] - 123s 242ms/step - loss: 0.0247 - accuracy: 0.9924 - val_loss: 0.1609 - val_accuracy: 0.9586\n",
      "Epoch 7/10\n",
      "508/508 [==============================] - 127s 249ms/step - loss: 0.0168 - accuracy: 0.9951 - val_loss: 0.1451 - val_accuracy: 0.9651\n"
     ]
    }
   ],
   "source": [
    "trafficmodel = model.fit(\n",
    "        train_generator,\n",
    "        steps_per_epoch=steps_per_epoch,\n",
    "        epochs=10,\n",
    "        validation_data=validation_generator,\n",
    "        validation_steps=val_steps,\n",
    "        callbacks=[earlyStoppingcallback])"
   ]
  },
  {
   "cell_type": "code",
   "execution_count": 20,
   "metadata": {},
   "outputs": [],
   "source": [
    "#Set the path where you want to store the model and weights \n",
    "model.save('traffic_model.h5')\n",
    "model.save_weights('traffic_model_weights.h5')"
   ]
  },
  {
   "cell_type": "code",
   "execution_count": 21,
   "metadata": {},
   "outputs": [
    {
     "name": "stdout",
     "output_type": "stream",
     "text": [
      "WARNING:tensorflow:From <ipython-input-21-e2265053a7e4>:1: Model.evaluate_generator (from tensorflow.python.keras.engine.training) is deprecated and will be removed in a future version.\n",
      "Instructions for updating:\n",
      "Please use Model.evaluate, which supports generators.\n",
      "WARNING:tensorflow:sample_weight modes were coerced from\n",
      "  ...\n",
      "    to  \n",
      "  ['...']\n",
      "Test Accuracy: 96.508\n"
     ]
    }
   ],
   "source": [
    "_, acc = model.evaluate_generator(validation_generator, steps=len(validation_generator), verbose=0)\n",
    "print('Test Accuracy: %.3f' % (acc * 100))"
   ]
  },
  {
   "cell_type": "markdown",
   "metadata": {},
   "source": [
    "## Getting accuracy of around 96.5% on validation set"
   ]
  },
  {
   "cell_type": "markdown",
   "metadata": {
    "colab_type": "text",
    "id": "diNbnH_dKO8J"
   },
   "source": [
    "### Draw plots (5 Marks)\n",
    "- Plot training accuracy and validation accuracy with respect to epochs\n",
    "- Plot training loss and validation loss with respect to epochs"
   ]
  },
  {
   "cell_type": "code",
   "execution_count": 22,
   "metadata": {},
   "outputs": [
    {
     "data": {
      "image/png": "[encoded data removed]",
      "text/plain": [
       "<Figure size 432x288 with 1 Axes>"
      ]
     },
     "metadata": {
      "needs_background": "light"
     },
     "output_type": "display_data"
    }
   ],
   "source": [
    "import matplotlib.pyplot as plt\n",
    "\n",
    "# summarize history for accuracy\n",
    "plt.plot(trafficmodel.history['val_accuracy'],label = \"val_accuracy\")\n",
    "plt.plot(trafficmodel.history['accuracy'],label = \"train_accuracy\")\n",
    "plt.title('model accuracy')\n",
    "plt.ylabel('accuracy')\n",
    "plt.xlabel('epoch')\n",
    "plt.legend(['val_accuracy', 'train_accuracy'], loc='upper left')\n",
    "plt.show()"
   ]
  },
  {
   "cell_type": "markdown",
   "metadata": {},
   "source": [
    "## As you can see train accuracy in red colour is low at the starting but after 1 epoch it shoots to 98% and validation accuracy is also around 97% at the end of 4 epoch runs"
   ]
  },
  {
   "cell_type": "code",
   "execution_count": 23,
   "metadata": {},
   "outputs": [
    {
     "data": {
      "image/png": "[encoded data removed]",
      "text/plain": [
       "<Figure size 432x288 with 1 Axes>"
      ]
     },
     "metadata": {
      "needs_background": "light"
     },
     "output_type": "display_data"
    }
   ],
   "source": [
    "# summarize history for loss\n",
    "plt.plot(trafficmodel.history['val_loss'])\n",
    "plt.plot(trafficmodel.history['loss'])\n",
    "plt.title('model loss')\n",
    "plt.ylabel('loss')\n",
    "plt.xlabel('epoch')\n",
    "plt.legend(['val_loss', 'train_loss'], loc='upper left')\n",
    "plt.show()"
   ]
  },
  {
   "cell_type": "markdown",
   "metadata": {},
   "source": [
    "## Conclusion:"
   ]
  },
  {
   "cell_type": "markdown",
   "metadata": {},
   "source": [
    "## As you can see training loss is high at 0.61 when training starts but after 1 epoch it reduces to 0.05 and validation loss is also around 0.12 at the end of all epoch runs"
   ]
  }
 ],
 "metadata": {
  "colab": {
   "collapsed_sections": [],
   "name": "Questions - Graded Project - German Traffic Sign.ipynb",
   "provenance": []
  },
  "kernelspec": {
   "display_name": "Python 3 (ipykernel)",
   "language": "python",
   "name": "python3"
  },
  "language_info": {
   "codemirror_mode": {
    "name": "ipython",
    "version": 3
   },
   "file_extension": ".py",
   "mimetype": "text/x-python",
   "name": "python",
   "nbconvert_exporter": "python",
   "pygments_lexer": "ipython3",
   "version": "3.12.4"
  }
 },
 "nbformat": 4,
 "nbformat_minor": 4
}
